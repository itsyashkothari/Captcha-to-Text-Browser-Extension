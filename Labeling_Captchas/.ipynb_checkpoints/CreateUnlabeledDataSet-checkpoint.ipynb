{
 "cells": [
  {
   "cell_type": "code",
   "execution_count": 11,
   "metadata": {},
   "outputs": [
    {
     "name": "stdout",
     "output_type": "stream",
     "text": [
      "Python 3.5.2\r\n"
     ]
    },
    {
     "ename": "ImportError",
     "evalue": "No module named wget",
     "output_type": "error",
     "traceback": [
      "\u001b[0;31m---------------------------------------------------------------------------\u001b[0m",
      "\u001b[0;31mImportError\u001b[0m                               Traceback (most recent call last)",
      "\u001b[0;32m<ipython-input-11-92ab3685ad62>\u001b[0m in \u001b[0;36m<module>\u001b[0;34m()\u001b[0m\n\u001b[1;32m     11\u001b[0m \u001b[0mget_ipython\u001b[0m\u001b[0;34m(\u001b[0m\u001b[0;34m)\u001b[0m\u001b[0;34m.\u001b[0m\u001b[0msystem\u001b[0m\u001b[0;34m(\u001b[0m\u001b[0;34mu' python3 --version'\u001b[0m\u001b[0;34m)\u001b[0m\u001b[0;34m\u001b[0m\u001b[0m\n\u001b[1;32m     12\u001b[0m \u001b[0;31m#!pip3 list\u001b[0m\u001b[0;34m\u001b[0m\u001b[0;34m\u001b[0m\u001b[0m\n\u001b[0;32m---> 13\u001b[0;31m \u001b[0;32mimport\u001b[0m \u001b[0mwget\u001b[0m\u001b[0;34m\u001b[0m\u001b[0m\n\u001b[0m",
      "\u001b[0;31mImportError\u001b[0m: No module named wget"
     ]
    }
   ],
   "source": [
    "#creat virualenv with python3 and activate\n",
    "'''\n",
    "%bash\n",
    "mkdir captcha_project \n",
    "cd captcha_project \n",
    "virtualenv -p python3 env\n",
    ". env/bin/activate\n",
    "pip3 install jupyter\n",
    "'''\n",
    "#!pip3 install wget\n",
    "! python3 --version\n",
    "#!pip3 list\n",
    "import wget"
   ]
  },
  {
   "cell_type": "code",
   "execution_count": 10,
   "metadata": {},
   "outputs": [
    {
     "ename": "ImportError",
     "evalue": "No module named wget",
     "output_type": "error",
     "traceback": [
      "\u001b[0;31m---------------------------------------------------------------------------\u001b[0m",
      "\u001b[0;31mImportError\u001b[0m                               Traceback (most recent call last)",
      "\u001b[0;32m<ipython-input-10-2fc1ca24ee05>\u001b[0m in \u001b[0;36m<module>\u001b[0;34m()\u001b[0m\n\u001b[1;32m      1\u001b[0m \u001b[0;32mimport\u001b[0m \u001b[0mos\u001b[0m\u001b[0;34m\u001b[0m\u001b[0m\n\u001b[0;32m----> 2\u001b[0;31m \u001b[0;32mimport\u001b[0m \u001b[0mwget\u001b[0m\u001b[0;34m\u001b[0m\u001b[0m\n\u001b[0m\u001b[1;32m      3\u001b[0m \u001b[0;31m#os.makedirs(\"data/\",exist_ok = True)\u001b[0m\u001b[0;34m\u001b[0m\u001b[0;34m\u001b[0m\u001b[0m\n\u001b[1;32m      4\u001b[0m \u001b[0mdownload_url\u001b[0m \u001b[0;34m=\u001b[0m \u001b[0;34m\"https://webmail.iitg.ernet.in/plugins/captcha/backends/watercap/image_generator.php?sq=151683345\"\u001b[0m\u001b[0;34m\u001b[0m\u001b[0m\n\u001b[1;32m      5\u001b[0m \u001b[0mwget\u001b[0m\u001b[0;34m.\u001b[0m\u001b[0mdownlaod\u001b[0m\u001b[0;34m(\u001b[0m\u001b[0mdownload_url\u001b[0m\u001b[0;34m)\u001b[0m\u001b[0;34m\u001b[0m\u001b[0m\n",
      "\u001b[0;31mImportError\u001b[0m: No module named wget"
     ]
    }
   ],
   "source": [
    "import os\n",
    "import wget\n",
    "#os.makedirs(\"data/\",exist_ok = True)\n",
    "download_url = \"https://webmail.iitg.ernet.in/plugins/captcha/backends/watercap/image_generator.php?sq=151683345\"\n",
    "wget.download(download_url)\n"
   ]
  },
  {
   "cell_type": "code",
   "execution_count": null,
   "metadata": {},
   "outputs": [],
   "source": [
    "#//captcha generator was php file which took gave captcha image as output.\n",
    "#(home/captcha/downlaad_Captcha.sh)\n",
    "\n",
    "import os\n",
    "import glob\n",
    "\n",
    "#Create a data folder folder which will have downloaded data\n",
    "os.makedirs(\"data/\",exists_ok)\n",
    "os.chdir(\"data/\")\n",
    "download_url = \"https://webmail.iitg.ernet.in/plugins/captcha/backends/watercap/image_generator.php?sq=151683345\"\n",
    "for i in range(10000):\n",
    "    wget.download(download_url,out = \"data/\")\n",
    "    print(i)\n"
   ]
  },
  {
   "cell_type": "code",
   "execution_count": null,
   "metadata": {},
   "outputs": [],
   "source": [
    "\n",
    "if not os.path.exists(\"original/\"):\n",
    "    os.makedirs(\"original/\")\n",
    "if not os.path.exists(\"original/\"):\n",
    "    os.makedirs(\"original/\")\n",
    "!mkdir letters\n",
    "files = glob.glob(\"*\")\n",
    "files_already_present = length(glob.glob(\"original/\")\n",
    "i=files_already_present+1\n",
    "for file in files: \n",
    "    os.rename(file, \"captcha\"+str(i)+'.png')\n",
    "    i=i+1\n",
    "\n",
    "                               \n",
    "files = glob.glob(\"captcha*\")\n",
    "j=files_already_present+1\n",
    "for file in files:\n",
    "    a = plt.imread(file)\n",
    "    for i in range(5):\n",
    "        t = a[1:,i*47:(i*47)+64,:]\n",
    "        plt.imsave(\"let\"+str(j)+\"_\"+str(i)+'.png',t)\n",
    "    j = j + 1\n",
    "print(j)\n",
    "!mv captcha* original/\n",
    "!mv let* letters/\n"
   ]
  },
  {
   "cell_type": "markdown",
   "metadata": {},
   "source": [
    "# hhe\n"
   ]
  },
  {
   "cell_type": "markdown",
   "metadata": {},
   "source": [
    "Best resource of learning django is video tutorial series at thenewboston here(add hyper link)\n",
    "Atleast the first 20 lectures\n",
    "Also this is pretty sweet resouce https://docs.djangoproject.com/en/2.0/\n"
   ]
  },
  {
   "cell_type": "code",
   "execution_count": null,
   "metadata": {},
   "outputs": [],
   "source": [
    "downloading\n",
    "labelling\n",
    "    create a django app with multiple login which allows user to login and labell teh data \n",
    "    \n",
    "keras training\n",
    "flask server for predict\n",
    "firefox extention to send a post request"
   ]
  }
 ],
 "metadata": {
  "kernelspec": {
   "display_name": "Python 3",
   "language": "python",
   "name": "python3"
  },
  "language_info": {
   "codemirror_mode": {
    "name": "ipython",
    "version": 2
   },
   "file_extension": ".py",
   "mimetype": "text/x-python",
   "name": "python",
   "nbconvert_exporter": "python",
   "pygments_lexer": "ipython2",
   "version": "2.7.12"
  }
 },
 "nbformat": 4,
 "nbformat_minor": 2
}
