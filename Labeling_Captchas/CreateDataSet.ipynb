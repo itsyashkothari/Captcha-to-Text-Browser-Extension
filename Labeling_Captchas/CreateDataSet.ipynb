{
 "cells": [
  {
   "cell_type": "code",
   "execution_count": null,
   "metadata": {},
   "outputs": [],
   "source": [
    "import pandas as pd\n",
    "import numpy as np \n",
    "import os,shutil"
   ]
  },
  {
   "cell_type": "code",
   "execution_count": null,
   "metadata": {},
   "outputs": [],
   "source": [
    "df = pd.read_csv(\"errortocorrect.csv\")"
   ]
  },
  {
   "cell_type": "code",
   "execution_count": null,
   "metadata": {},
   "outputs": [],
   "source": [
    "df.head()"
   ]
  },
  {
   "cell_type": "code",
   "execution_count": null,
   "metadata": {},
   "outputs": [],
   "source": [
    "for index, row in df.iterrows():\n",
    "    f = 'data/'+str(row.from_folder) + '/let' + str(row.number) +'_'+str(row.partition)+'.png'\n",
    "    t = 'data/'+str(row.to_folder)+'/'\n",
    "    print(f,t)\n",
    "    ! mv {f} {t}"
   ]
  },
  {
   "cell_type": "code",
   "execution_count": null,
   "metadata": {},
   "outputs": [],
   "source": [
    "for index, row in df.iterrows():\n",
    "    print(row)"
   ]
  },
  {
   "cell_type": "code",
   "execution_count": 1,
   "metadata": {},
   "outputs": [
    {
     "name": "stdout",
     "output_type": "stream",
     "text": [
      "captcha\t\t     data\t\t insert.sh  namer\r\n",
      "classification\t     db.sqlite3\t\t manage.py  photos\r\n",
      "CreateDataSet.ipynb  errortocorrect.csv  media\t    Untitled.ipynb\r\n"
     ]
    }
   ],
   "source": [
    "!ls\n",
    "import os"
   ]
  },
  {
   "cell_type": "code",
   "execution_count": null,
   "metadata": {},
   "outputs": [],
   "source": [
    "'''\n",
    "Original structure \n",
    "-This notebook\n",
    "-data\n",
    "    -class 1\n",
    "    -class 2\n",
    "    ...\n",
    "    -class n\n",
    "New Structure\n",
    "-This notebook\n",
    "-data\n",
    "    -train\n",
    "        -class 1\n",
    "        -class 2\n",
    "        ...\n",
    "        -class n   \n",
    "    -dev\n",
    "        -class 1\n",
    "        -class 2\n",
    "        ...\n",
    "        -class n\n",
    "'''\n",
    "root = \"data/\"\n",
    "folders =  os.listdir(root) \n",
    "print(len(folders))\n",
    "print(folders)\n",
    "prob = 0.1"
   ]
  },
  {
   "cell_type": "code",
   "execution_count": null,
   "metadata": {},
   "outputs": [],
   "source": [
    "# Don't run this twice , it will screw your directory structure\n",
    "for folder in folders:\n",
    "    files = os.listdir(root+folder)\n",
    "#   print(folder)\n",
    "    for f in files:\n",
    "        f = folder+'/'+f\n",
    "        print(f)\n",
    "        if np.random.rand() < prob:\n",
    "            dest = root+'validation/'+f\n",
    "        else:\n",
    "            dest = root+'train/'+f     \n",
    "        directory = os.path.dirname(dest)\n",
    "        if not os.path.exists(directory):\n",
    "            os.makedirs(directory)\n",
    "        shutil.move(root+f,dest)\n",
    "    os.rmdir(root+folder)"
   ]
  },
  {
   "cell_type": "code",
   "execution_count": null,
   "metadata": {},
   "outputs": [],
   "source": []
  },
  {
   "cell_type": "code",
   "execution_count": null,
   "metadata": {},
   "outputs": [],
   "source": [
    "dest = 'yash/yash/123.png'\n",
    "directory = os.path.dirname(dest)\n",
    "if not os.path.exists(directory):\n",
    "    os.makedirs(directory)\n"
   ]
  },
  {
   "cell_type": "code",
   "execution_count": null,
   "metadata": {},
   "outputs": [],
   "source": []
  }
 ],
 "metadata": {
  "kernelspec": {
   "display_name": "Python 3",
   "language": "python",
   "name": "python3"
  },
  "language_info": {
   "codemirror_mode": {
    "name": "ipython",
    "version": 2
   },
   "file_extension": ".py",
   "mimetype": "text/x-python",
   "name": "python",
   "nbconvert_exporter": "python",
   "pygments_lexer": "ipython2",
   "version": "2.7.12"
  }
 },
 "nbformat": 4,
 "nbformat_minor": 2
}
